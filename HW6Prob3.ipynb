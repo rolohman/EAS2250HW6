{
 "cells": [
  {
   "cell_type": "code",
   "execution_count": null,
   "id": "a572de78",
   "metadata": {},
   "outputs": [],
   "source": [
    "import numpy as np\n",
    "import cartopy.crs as ccrs\n",
    "import matplotlib.pyplot as plt\n",
    "import requests\n",
    "import geojson"
   ]
  },
  {
   "cell_type": "markdown",
   "id": "838366b3",
   "metadata": {},
   "source": [
    "Set longitude and latitude bounds for plot"
   ]
  },
  {
   "cell_type": "code",
   "execution_count": null,
   "id": "48506cb1",
   "metadata": {},
   "outputs": [],
   "source": [
    "minlon=48\n",
    "maxlon=58.5\n",
    "minlat=25\n",
    "maxlat=34.2"
   ]
  },
  {
   "cell_type": "markdown",
   "id": "5fcb096d",
   "metadata": {},
   "source": [
    "Here we are going to ask for a list of earthquakes from the US Geological survey.  Have a look at this, but you don't need to edit anything. If your area is TOO big, you may get more than 20,000 earthquakes and the search may give you an error.  Note that it tells you how many earthquakes it did find."
   ]
  },
  {
   "cell_type": "code",
   "execution_count": null,
   "id": "84dad196",
   "metadata": {},
   "outputs": [],
   "source": [
    "parameters={\n",
    "    \"starttime\":\"1913-01-01\",\n",
    "    \"endtime\":\"2013-12-31\",\n",
    "    \"minmagnitude\":4,\n",
    "    \"minlatitude\":minlat,\n",
    "    \"maxlatitude\":maxlat,\n",
    "    \"minlongitude\":minlon,\n",
    "    \"maxlongitude\":maxlon,\n",
    "    \"limit\":20000,\n",
    "    \"format\":\"geojson\"\n",
    "}\n",
    "response=requests.get(\"https://earthquake.usgs.gov/fdsnws/event/1/query\",params=parameters)\n",
    "output=response.json()\n",
    "numquakes = len(output['features'])\n",
    "\n",
    "print('Search returned: '+str(numquakes)+' earthquakes')"
   ]
  },
  {
   "cell_type": "markdown",
   "id": "316fff18",
   "metadata": {},
   "source": [
    "Now we loop through the dataset we retrieved (which has a lot of info) and just pull out the latitude, longitude, depth, and magnitude of each earthquake."
   ]
  },
  {
   "cell_type": "code",
   "execution_count": null,
   "id": "93099d2b",
   "metadata": {},
   "outputs": [],
   "source": [
    "lon=np.empty(numquakes,)\n",
    "lat=np.empty(numquakes,)\n",
    "z=np.empty(numquakes,)\n",
    "mag=np.empty(numquakes,)\n",
    "for i in range(numquakes):\n",
    "    lon[i] = output['features'][i]['geometry']['coordinates'][0]\n",
    "    lat[i] = output['features'][i]['geometry']['coordinates'][1]\n",
    "    z[i]   = output['features'][i]['geometry']['coordinates'][2]   \n",
    "    mag[i] = output['features'][i]['properties']['mag']\n",
    "    "
   ]
  },
  {
   "cell_type": "markdown",
   "id": "be9957b3",
   "metadata": {},
   "source": [
    "And now we make a map!  Look through this and find where the label colors, font \"size\" and weight are set.  Make them all blue, bold and size 14.  "
   ]
  },
  {
   "cell_type": "code",
   "execution_count": null,
   "id": "f4286ee0",
   "metadata": {},
   "outputs": [],
   "source": [
    "fig=plt.figure(figsize=(10,10))\n",
    "ax = plt.axes(projection=ccrs.PlateCarree())\n",
    "ax.set_extent([minlon,maxlon,minlat,maxlat])\n",
    "ax.coastlines()\n",
    "ax.stock_img()\n",
    "\n",
    "im=ax.scatter(lon,lat,s=4,c=z,cmap='rainbow')\n",
    "\n",
    "gl = ax.gridlines(draw_labels=True, linewidth=2, color='gray', alpha=0.5, linestyle='--')\n",
    "gl.top_labels = False\n",
    "gl.right_labels = False\n",
    "gl.ylabel_style = {'size': 15, 'color': 'gray'}\n",
    "gl.xlabel_style = {'color': 'red', 'weight': 'bold'}\n",
    "fig.colorbar(im,ax=ax,label='Depth (km)',orientation='horizontal')\n",
    "plt.show()\n"
   ]
  },
  {
   "cell_type": "code",
   "execution_count": null,
   "id": "ce30e72d",
   "metadata": {},
   "outputs": [],
   "source": []
  }
 ],
 "metadata": {
  "kernelspec": {
   "display_name": "Python 3",
   "language": "python",
   "name": "python3"
  },
  "language_info": {
   "codemirror_mode": {
    "name": "ipython",
    "version": 3
   },
   "file_extension": ".py",
   "mimetype": "text/x-python",
   "name": "python",
   "nbconvert_exporter": "python",
   "pygments_lexer": "ipython3",
   "version": "3.7.10"
  }
 },
 "nbformat": 4,
 "nbformat_minor": 5
}
